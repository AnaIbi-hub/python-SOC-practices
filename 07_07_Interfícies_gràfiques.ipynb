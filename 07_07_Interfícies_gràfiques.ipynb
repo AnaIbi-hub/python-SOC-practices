{
  "nbformat": 4,
  "nbformat_minor": 0,
  "metadata": {
    "colab": {
      "provenance": [],
      "authorship_tag": "ABX9TyPdNehNh47x3+1mhLMhd5LY",
      "include_colab_link": true
    },
    "kernelspec": {
      "name": "python3",
      "display_name": "Python 3"
    },
    "language_info": {
      "name": "python"
    }
  },
  "cells": [
    {
      "cell_type": "markdown",
      "metadata": {
        "id": "view-in-github",
        "colab_type": "text"
      },
      "source": [
        "<a href=\"https://colab.research.google.com/github/AnaIbi-hub/python-SOC-practices/blob/main/07_07_Interf%C3%ADcies_gr%C3%A0fiques.ipynb\" target=\"_parent\"><img src=\"https://colab.research.google.com/assets/colab-badge.svg\" alt=\"Open In Colab\"/></a>"
      ]
    },
    {
      "cell_type": "code",
      "execution_count": null,
      "metadata": {
        "id": "SDGgEPkl39ps"
      },
      "outputs": [],
      "source": [
        "import tkinter as tk\n",
        "\n",
        "def Buscar():\n",
        "\n",
        "    cadena = e1.get()\n",
        "    llista = cadena.split(\",\")\n",
        "    suma = 0\n",
        "\n",
        "    for numero in llista:\n",
        "        suma += int(numero)\n",
        "\n",
        "    Label1.config(text=str(suma))\n",
        "'''\n",
        "def minuscula(listcadena):\n",
        "    nova_llista = []\n",
        "    for cadena in listcadena:\n",
        "        nova_llista.append(cadena.upper())\n",
        "    return nova_llista\n",
        "\n",
        "def Buscar():\n",
        "    texto = e1.get()\n",
        "    resultado = minuscula([texto])\n",
        "    etiqueta_resultado.config(text=\"Resultado: \" + resultado[0])\n",
        "'''\n",
        "\n",
        "\n",
        "\n",
        "root = tk.Tk()\n",
        "amplada = root.winfo_screenwidth() // 3\n",
        "alcada = root.winfo_screenheight() // 3\n",
        "root.geometry(f\"{amplada}x{alcada}\")\n",
        "\n",
        "cl = tk.Canvas(root, bg='orange')\n",
        "cl.place(x=0, y=0, width=amplada, height=alcada)\n",
        "\n",
        "e1 = tk.Entry(cl)\n",
        "e1.place(x=(amplada // 2), y=(alcada // 10), width=200, height=25, anchor=tk.CENTER)\n",
        "\n",
        "b1 = tk.Button(cl, text=\"Hazme click\", command=Buscar)\n",
        "b1.place(x=amplada // 2, y=8 * alcada // 10, width=100, height=25, anchor=tk.CENTER)\n",
        "\n",
        "etiqueta_resultado = tk.Label(cl, text=\"\", bg='orange')\n",
        "etiqueta_resultado.place(x=amplada // 2, y=alcada // 2, anchor=tk.CENTER)\n",
        "\n",
        "root.mainloop()\n"
      ]
    },
    {
      "cell_type": "code",
      "source": [
        "import re\n",
        "import time\n",
        "\n",
        "Adef hora() :\n",
        "cadena = el.get()\n",
        "\n",
        "lista = cadena.split(', ') # [\"1\", \"2\", \"3\", \"4\", \"5\"]\n",
        "\n",
        "resultado = []\n",
        "\n",
        "for numero in lista:\n",
        "\n",
        "resultado. append (int (numero) )\n",
        "\n",
        "resultado = [int (numero) for numero in lista #LIST COMPREHENSION\n",
        "\n",
        "# resultado = [1, 2, 3, 4, 5]\n",
        "\n",
        "suma = 0\n",
        "\n",
        "for numero in resultado:\n",
        "\n",
        "suma += numero ** 3\n",
        "\n",
        "Labell.config(text=f\"{suma}\")\n",
        "\n",
        "# \"1,2,3, 4,5\"\n",
        "\n",
        "root = tk. Tk ()\n",
        "amplada = root. winfo screenwidth () //3\n",
        "alcada = root.winfo_screenheight () //3\n",
        "root.geometry(f\"{amplada}x(alcada}\")\n",
        "\n",
        "cl = tk. Canvas(root, bg = '#FFD700', width = amplada, height = alcada)\n",
        "cl.place(x = 0, y = 0)\n",
        "\n",
        "bl=tk. Button(cl, text = \"Actualiza Hora\", command=hora)\n",
        "b1.place(x = amplada // 2, y = 8 * alcada // 10, width=100, height=25, anchor = tk. CENTER)"
      ],
      "metadata": {
        "id": "l7tV_pMI5clk"
      },
      "execution_count": null,
      "outputs": []
    }
  ]
}