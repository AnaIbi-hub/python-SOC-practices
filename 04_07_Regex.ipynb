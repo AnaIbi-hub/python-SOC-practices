{
  "nbformat": 4,
  "nbformat_minor": 0,
  "metadata": {
    "colab": {
      "provenance": [],
      "authorship_tag": "ABX9TyMBZmP2+rDi0vM71ZoLGUQy",
      "include_colab_link": true
    },
    "kernelspec": {
      "name": "python3",
      "display_name": "Python 3"
    },
    "language_info": {
      "name": "python"
    }
  },
  "cells": [
    {
      "cell_type": "markdown",
      "metadata": {
        "id": "view-in-github",
        "colab_type": "text"
      },
      "source": [
        "<a href=\"https://colab.research.google.com/github/AnaIbi-hub/python-SOC-practices/blob/main/04_07_Regex.ipynb\" target=\"_parent\"><img src=\"https://colab.research.google.com/assets/colab-badge.svg\" alt=\"Open In Colab\"/></a>"
      ]
    },
    {
      "cell_type": "code",
      "execution_count": null,
      "metadata": {
        "colab": {
          "base_uri": "https://localhost:8080/"
        },
        "id": "HIifVTvGff5O",
        "outputId": "2599a0a7-1ec5-46d1-8198-da5bb8c49dc0"
      },
      "outputs": [
        {
          "output_type": "stream",
          "name": "stdout",
          "text": [
            "Matches encontrados: ['123', ' 123 ', '123']\n"
          ]
        }
      ],
      "source": [
        "import re\n",
        "\n",
        "# Cadena de texto\n",
        "string = \"123 123 123q A 123\"\n",
        "\n",
        "# Patrón regex\n",
        "pattern = r\"\\s[0-9]+\\s|^[0-9]+|[0-9]+$\"\n",
        "\n",
        "# Buscar coincidencias\n",
        "matches = re.findall(pattern, string)\n",
        "\n",
        "# Mostrar resultados\n",
        "print(\"Matches encontrados:\", matches)\n"
      ]
    },
    {
      "cell_type": "code",
      "source": [
        "import re\n",
        "\n",
        "\n",
        "cadena = '''Richard Phillips Feynman (Queens, Nueva York; 11 de mayo de 1918-Los Ángeles, California; 15 de febrero de 1988) fue un físico teórico estadounidense[2]​[3]​[4]​ conocido por sus trabajos ...'''  # texto completo\n",
        "\n",
        "patro = re.compile(r\"[0-9]+\")  # compila la regex para buscar números\n",
        "\n",
        "resultat = patro.findall(cadena)  # busca todos los números en la cadena\n",
        "\n",
        "numeric = resultat[4:]\n",
        "\n",
        "#for trobat in resultat:\n",
        "    #print(trobat)\n",
        "\n",
        "#print(resultat)\n",
        "'''\n",
        "for pos in range(len(numeric)):\n",
        "  numeric[pos] = int(numeric[pos])\n",
        "\n",
        "print(numeric)\n",
        "'''\n",
        "numeric_int = []\n",
        "for numero in numeric:\n",
        "\n",
        "    numeric_int.append(int(numero))\n",
        "    #numero = int(numero)\n",
        "\n",
        "print(numeric_int)"
      ],
      "metadata": {
        "colab": {
          "base_uri": "https://localhost:8080/"
        },
        "id": "9uMl_uparBTq",
        "outputId": "bfa1c341-c30d-4175-b910-3433d43bd8d4"
      },
      "execution_count": null,
      "outputs": [
        {
          "output_type": "stream",
          "name": "stdout",
          "text": [
            "[2, 3, 4]\n"
          ]
        }
      ]
    },
    {
      "cell_type": "markdown",
      "source": [
        "Exercici 1: Validació de correus electrònics\n",
        "Objectiu: Escriu una expressió regular per validar correus electrònics simples.\n",
        "Entrada: hola@test.com, josep.puigdemont@company.cat, marta123@xyz.org, persona@."
      ],
      "metadata": {
        "id": "ViUiPsJBz4JJ"
      }
    },
    {
      "cell_type": "code",
      "source": [
        "import re\n",
        "\n",
        "# Cadena de texto\n",
        "string = \"hola@test.com, josep.puigdemont@company.cat, marta123@xyz.org, persona@.\"\n",
        "\n",
        "# Patrón regex hecho por mí\n",
        "#pattern = r\"[a-z0-9]|[\\@]\"\n",
        "\n",
        "#Patron regex hecho por joan:\n",
        "pattern = re.compile(\"[a-z0-9.]+@[a-z0-9]+\\.[a-z0-9.]+\")\n",
        "\n",
        "\n",
        "# Buscar coincidencias\n",
        "matches = re.findall(pattern, string)\n",
        "\n",
        "# Mostrar resultados\n",
        "print(\"Matches encontrados:\", matches)"
      ],
      "metadata": {
        "colab": {
          "base_uri": "https://localhost:8080/"
        },
        "id": "lTxyfXuVxHTD",
        "outputId": "4cf71c24-c782-4b11-b5ea-592e01ff4eff"
      },
      "execution_count": null,
      "outputs": [
        {
          "output_type": "stream",
          "name": "stdout",
          "text": [
            "Matches encontrados: ['hola@test.com', 'josep.puigdemont@company.cat', 'marta123@xyz.org']\n"
          ]
        }
      ]
    },
    {
      "cell_type": "markdown",
      "source": [
        "Exercici 2: Extracció de números de telèfon amb prefix\n",
        "Objectiu: Escriu una expressió regular per extreure els números de telèfon espanyols amb\n",
        "prefix \"(93)\".\n",
        "Entrada: (93)2541700, (952)253228, (93)2177017, (958)233517."
      ],
      "metadata": {
        "id": "Q-btGd-7z7Pv"
      }
    },
    {
      "cell_type": "code",
      "source": [
        "import re\n",
        "\n",
        "# Cadena de texto\n",
        "string = \"(93)2541700, (952)253228, (93)2177017, (958)233517.\"\n",
        "\n",
        "# Patrón regex\n",
        "pattern = r\"\\(93\\)[0-9]{7}\"\n",
        "\n",
        "# Buscar coincidencias\n",
        "matches = re.findall(pattern, string)\n",
        "\n",
        "# Mostrar resultados\n",
        "print(\"Matches encontrados:\", matches)"
      ],
      "metadata": {
        "colab": {
          "base_uri": "https://localhost:8080/"
        },
        "id": "rI_DoxYMxWuU",
        "outputId": "d9dacabd-047b-4f01-d22c-eaa2680624b3"
      },
      "execution_count": null,
      "outputs": [
        {
          "output_type": "stream",
          "name": "stdout",
          "text": [
            "Matches encontrados: ['(93)2541700', '(93)2177017']\n"
          ]
        }
      ]
    },
    {
      "cell_type": "markdown",
      "source": [
        "Exercici 3: Identificació de paraules amb accents\n",
        "Objectiu: Extrau totes les paraules que contenen accents en una frase.\n",
        "Entrada: Hola, com estàs? Avui és un dia solejat i l'hora és les 10:30 del matí."
      ],
      "metadata": {
        "id": "9ROfaqhez-cA"
      }
    },
    {
      "cell_type": "code",
      "source": [
        "import re\n",
        "\n",
        "# Cadena de texto\n",
        "string = \"Hola, com estàs? Avui és un dia solejat i l'hora és les 10:30 del matí.\"\n",
        "\n",
        "# Patrón regex\n",
        "pattern = r\"\\(93\\)[0-9]{7}\"\n",
        "\n",
        "# Buscar coincidencias\n",
        "matches = re.findall(pattern, string)\n",
        "\n",
        "# Mostrar resultados\n",
        "print(\"Matches encontrados:\", matches)"
      ],
      "metadata": {
        "id": "YTvR5Y0Sz_FQ"
      },
      "execution_count": null,
      "outputs": []
    },
    {
      "cell_type": "markdown",
      "source": [
        "Exercici 4: Validació de codis postals\n",
        "Objectiu: Escriu un regex per validar codis postals de 5 dígits espanyols.\n",
        "Entrada: 08001, 08080, 12345, abcd5, 5678"
      ],
      "metadata": {
        "id": "6Ux_mYaD5MNK"
      }
    },
    {
      "cell_type": "code",
      "source": [
        "import re\n",
        "\n",
        "# Cadena de texto\n",
        "string = \"08001, 08080, 12345, abcd5, 5678, 56375726524\"\n",
        "\n",
        "# Patrón regex\n",
        "pattern = r\"[0-9]{5}\\,|\\s[0-9]{5}$|\\s[0-9]{5}\\.\"\n",
        "\n",
        "# Buscar coincidencias\n",
        "matches = re.findall(pattern, string)\n",
        "\n",
        "# Mostrar resultados\n",
        "print(\"Matches encontrados:\", matches)"
      ],
      "metadata": {
        "colab": {
          "base_uri": "https://localhost:8080/"
        },
        "id": "8TflQwWg5NVb",
        "outputId": "becb23fc-a4f5-49e7-ae9f-ea74a944eb6e"
      },
      "execution_count": null,
      "outputs": [
        {
          "output_type": "stream",
          "name": "stdout",
          "text": [
            "Matches encontrados: ['08001,', '08080,', '12345,']\n"
          ]
        }
      ]
    },
    {
      "cell_type": "markdown",
      "source": [
        "Exercici 5: Extracció de preus en format decimal\n",
        "Objectiu: Escriu un regex per trobar preus amb decimals en una cadena de text.\n",
        "Entrada: Els preus dels productes són 10.99€, 20€, 100.50€, i 300.00€."
      ],
      "metadata": {
        "id": "_d7v84rz7xrx"
      }
    },
    {
      "cell_type": "code",
      "source": [
        "import re\n",
        "\n",
        "# Cadena de texto\n",
        "string = \"Els preus dels productes són 10.99€, 20€, 100.50€, i 300.00€. \"\n",
        "\n",
        "# Patrón regex\n",
        "pattern = r\"\\d*[0-9]\\.\\d*\\€\"\n",
        "\n",
        "# Buscar coincidencias\n",
        "matches = re.findall(pattern, string)\n",
        "\n",
        "# Mostrar resultados\n",
        "print(\"Matches encontrados:\", matches)"
      ],
      "metadata": {
        "colab": {
          "base_uri": "https://localhost:8080/"
        },
        "id": "h8M7CkCp9LB3",
        "outputId": "7e008932-7959-4afd-ff04-d199352503d1"
      },
      "execution_count": null,
      "outputs": [
        {
          "output_type": "stream",
          "name": "stdout",
          "text": [
            "Matches encontrados: ['10.99€', '100.50€', '300.00€']\n"
          ]
        }
      ]
    },
    {
      "cell_type": "markdown",
      "source": [
        "Exercici 6: Validació de dates en format DD/MM/AAAA\n",
        "Objectiu: Escriu un regex per validar dates en format DD/MM/AAAA.\n",
        "Entrada: 25/12/2021, 01/01/1999, 31/02/2020, 30/04/2020."
      ],
      "metadata": {
        "id": "UyoFtQ_F9X42"
      }
    },
    {
      "cell_type": "code",
      "source": [
        "import re\n",
        "\n",
        "# Cadena de texto\n",
        "string = (\n",
        "    \"25/12/2021, 01/01/1999, 31/02/2020, 30/04/2020, \"\n",
        "    \"3.14, True, False, None, [1, 2, 3], {'a': 1}, (4, 5), \"\n",
        "    \"@#$%^&, hola, 42\"\n",
        ")\n",
        "\n",
        "# Patrón regex básico\n",
        "pattern_simple = r\"[0-9]{2}/[0-9]{2}/[0-9]{4}\"\n",
        "matches_simple = re.findall(pattern_simple, string)\n",
        "print(\"Matches con patrón básico:\", matches_simple)\n",
        "\n",
        "# Patrón propuesto por Joan (más específico con días, meses y años)\n",
        "pattern_joan = r\"(?:[012][0-9]|30|31)/(?:0[1-9]|1[0-2])/(?:19[0-9]{2}|20[01][0-9]|202[0-5])\"\n",
        "patro = re.compile(pattern_joan)\n",
        "matches_joan = patro.findall(string)\n",
        "print(\"Matches con patrón propuesto por Joan:\", matches_joan)\n"
      ],
      "metadata": {
        "colab": {
          "base_uri": "https://localhost:8080/"
        },
        "id": "zoKBVTNt9knn",
        "outputId": "6f14048c-3ce7-4231-9869-c7c9f0b6e795"
      },
      "execution_count": null,
      "outputs": [
        {
          "output_type": "stream",
          "name": "stdout",
          "text": [
            "Matches con patrón básico: ['25/12/2021', '01/01/1999', '31/02/2020', '30/04/2020']\n",
            "Matches con patrón propuesto por Joan: ['25/12/2021', '01/01/1999', '31/02/2020', '30/04/2020']\n"
          ]
        }
      ]
    },
    {
      "cell_type": "markdown",
      "source": [
        "Exercici 7: Detecció de URLs\n",
        "Objectiu: Escriu un regex per extreure URLs d'una cadena de text.\n",
        "Entrada: Visita https://www.example.com per més informació o http://test.org. També\n",
        "pots anar a www.google.com."
      ],
      "metadata": {
        "id": "VcSrpGYs_Ukc"
      }
    },
    {
      "cell_type": "code",
      "source": [
        "import re\n",
        "\n",
        "# Cadena de texto\n",
        "string = \" Entrada: Visita https://www.example.com per més informació o http://test.org. També pots anar a www.google.com.\"\n",
        "\n",
        "# Patrón regex\n",
        "pattern = r\"[0-9]{2}[/][0-9]{2}[/][0-9]{4}\"\n",
        "\n",
        "# Buscar coincidencias\n",
        "matches = re.findall(pattern, string)\n",
        "\n",
        "# Mostrar resultados\n",
        "print(\"Matches encontrados:\", matches)"
      ],
      "metadata": {
        "id": "qN9_pobxAlCs"
      },
      "execution_count": null,
      "outputs": []
    },
    {
      "cell_type": "code",
      "source": [
        "#Probemos algo random\n",
        "import re\n",
        "import random\n",
        "\n",
        "patro = re.compile(\"[01234][0-9]{4}|5[012][0-9]{3}\")\n",
        "\n",
        "for element in range(100):\n",
        "    numero = random.randrange(10000, 53999)\n",
        "    cadena = str(numero)\n",
        "    print(numero, patro.findall(cadena))\n"
      ],
      "metadata": {
        "colab": {
          "base_uri": "https://localhost:8080/"
        },
        "id": "Nqlwm1b1YIUd",
        "outputId": "b8020b75-5c27-4e62-fcc0-6f362cedccb1"
      },
      "execution_count": null,
      "outputs": [
        {
          "output_type": "stream",
          "name": "stdout",
          "text": [
            "40108 ['40108']\n",
            "19542 ['19542']\n",
            "33621 ['33621']\n",
            "34398 ['34398']\n",
            "34275 ['34275']\n",
            "27576 ['27576']\n",
            "47780 ['47780']\n",
            "13799 ['13799']\n",
            "47556 ['47556']\n",
            "10055 ['10055']\n",
            "43912 ['43912']\n",
            "37259 ['37259']\n",
            "43452 ['43452']\n",
            "48693 ['48693']\n",
            "10064 ['10064']\n",
            "35860 ['35860']\n",
            "23318 ['23318']\n",
            "24315 ['24315']\n",
            "45235 ['45235']\n",
            "10406 ['10406']\n",
            "18901 ['18901']\n",
            "25104 ['25104']\n",
            "11057 ['11057']\n",
            "33421 ['33421']\n",
            "31373 ['31373']\n",
            "44110 ['44110']\n",
            "30595 ['30595']\n",
            "12773 ['12773']\n",
            "48453 ['48453']\n",
            "31252 ['31252']\n",
            "47318 ['47318']\n",
            "36740 ['36740']\n",
            "14324 ['14324']\n",
            "34767 ['34767']\n",
            "31666 ['31666']\n",
            "47027 ['47027']\n",
            "48434 ['48434']\n",
            "18422 ['18422']\n",
            "46966 ['46966']\n",
            "20470 ['20470']\n",
            "43061 ['43061']\n",
            "13554 ['13554']\n",
            "32210 ['32210']\n",
            "27741 ['27741']\n",
            "38089 ['38089']\n",
            "31449 ['31449']\n",
            "40884 ['40884']\n",
            "38960 ['38960']\n",
            "47128 ['47128']\n",
            "50776 ['50776']\n",
            "12739 ['12739']\n",
            "38916 ['38916']\n",
            "35710 ['35710']\n",
            "31091 ['31091']\n",
            "42414 ['42414']\n",
            "40251 ['40251']\n",
            "34972 ['34972']\n",
            "20890 ['20890']\n",
            "23124 ['23124']\n",
            "48779 ['48779']\n",
            "11453 ['11453']\n",
            "36560 ['36560']\n",
            "26171 ['26171']\n",
            "37414 ['37414']\n",
            "49838 ['49838']\n",
            "15621 ['15621']\n",
            "18136 ['18136']\n",
            "29418 ['29418']\n",
            "39349 ['39349']\n",
            "45324 ['45324']\n",
            "44878 ['44878']\n",
            "23992 ['23992']\n",
            "52811 ['52811']\n",
            "17130 ['17130']\n",
            "28705 ['28705']\n",
            "17953 ['17953']\n",
            "47886 ['47886']\n",
            "39177 ['39177']\n",
            "16653 ['16653']\n",
            "52517 ['52517']\n",
            "34926 ['34926']\n",
            "30767 ['30767']\n",
            "46648 ['46648']\n",
            "33572 ['33572']\n",
            "23141 ['23141']\n",
            "22402 ['22402']\n",
            "11000 ['11000']\n",
            "37513 ['37513']\n",
            "48725 ['48725']\n",
            "32283 ['32283']\n",
            "22171 ['22171']\n",
            "10801 ['10801']\n",
            "48652 ['48652']\n",
            "28587 ['28587']\n",
            "15786 ['15786']\n",
            "53174 []\n",
            "16347 ['16347']\n",
            "23167 ['23167']\n",
            "12908 ['12908']\n",
            "46693 ['46693']\n"
          ]
        }
      ]
    }
  ]
}