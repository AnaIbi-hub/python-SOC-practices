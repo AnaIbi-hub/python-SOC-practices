{
  "nbformat": 4,
  "nbformat_minor": 0,
  "metadata": {
    "colab": {
      "provenance": [],
      "authorship_tag": "ABX9TyMM17Um5uBvqs/u3zFDwzJX",
      "include_colab_link": true
    },
    "kernelspec": {
      "name": "python3",
      "display_name": "Python 3"
    },
    "language_info": {
      "name": "python"
    }
  },
  "cells": [
    {
      "cell_type": "markdown",
      "metadata": {
        "id": "view-in-github",
        "colab_type": "text"
      },
      "source": [
        "<a href=\"https://colab.research.google.com/github/AnaIbi-hub/python-SOC-practices/blob/main/30_06_M%C3%A8todes.ipynb\" target=\"_parent\"><img src=\"https://colab.research.google.com/assets/colab-badge.svg\" alt=\"Open In Colab\"/></a>"
      ]
    },
    {
      "cell_type": "markdown",
      "source": [
        "Exercicis mètode i cadenes\n",
        "\n",
        "Compta el número de paraules que hi ha dins d'una cadena de text que li passeu per paràmetre (les paraules sempre estan separades per un o més espais en blanc)\n",
        "\n",
        "\n",
        "\n"
      ],
      "metadata": {
        "id": "0Gs3bJoMt7PA"
      }
    },
    {
      "cell_type": "code",
      "source": [
        "cadena = \"això  és   una cadena\"\n",
        "paraules = cadena.split()\n",
        "nombre_paraules = len(paraules)\n",
        "\n",
        "print(f\"Hi ha {nombre_paraules} paraules.\")"
      ],
      "metadata": {
        "colab": {
          "base_uri": "https://localhost:8080/"
        },
        "id": "xX4pkegmwWYF",
        "outputId": "4b12b0e1-512c-4f04-9c67-2269bb8bdf46"
      },
      "execution_count": null,
      "outputs": [
        {
          "output_type": "stream",
          "name": "stdout",
          "text": [
            "Hi ha 4 paraules.\n"
          ]
        }
      ]
    },
    {
      "cell_type": "markdown",
      "source": [
        " Escriure els múltiples de 2 menors o iguals a 100"
      ],
      "metadata": {
        "id": "rHW1vYHFEZUA"
      }
    },
    {
      "cell_type": "code",
      "source": [
        "numero = 2\n",
        "\n",
        "while numero <= 100:\n",
        "    print(numero)\n",
        "    numero += 2"
      ],
      "metadata": {
        "colab": {
          "base_uri": "https://localhost:8080/"
        },
        "id": "SNlV3x8WEZ5J",
        "outputId": "fb468de1-1719-48a7-fff8-38971e551a89"
      },
      "execution_count": null,
      "outputs": [
        {
          "output_type": "stream",
          "name": "stdout",
          "text": [
            "2\n",
            "4\n",
            "6\n",
            "8\n",
            "10\n",
            "12\n",
            "14\n",
            "16\n",
            "18\n",
            "20\n",
            "22\n",
            "24\n",
            "26\n",
            "28\n",
            "30\n",
            "32\n",
            "34\n",
            "36\n",
            "38\n",
            "40\n",
            "42\n",
            "44\n",
            "46\n",
            "48\n",
            "50\n",
            "52\n",
            "54\n",
            "56\n",
            "58\n",
            "60\n",
            "62\n",
            "64\n",
            "66\n",
            "68\n",
            "70\n",
            "72\n",
            "74\n",
            "76\n",
            "78\n",
            "80\n",
            "82\n",
            "84\n",
            "86\n",
            "88\n",
            "90\n",
            "92\n",
            "94\n",
            "96\n",
            "98\n",
            "100\n"
          ]
        }
      ]
    },
    {
      "cell_type": "markdown",
      "source": [
        "Escriure els 10 primers múltiples de 2"
      ],
      "metadata": {
        "id": "ICUA4YPxEsWZ"
      }
    },
    {
      "cell_type": "code",
      "source": [
        "numero = 2\n",
        "\n",
        "while numero <= 20:\n",
        "  print(numero)\n",
        "  numero = numero + 2"
      ],
      "metadata": {
        "colab": {
          "base_uri": "https://localhost:8080/"
        },
        "id": "23laka_JEtIh",
        "outputId": "87365f80-4c9d-42bb-b340-7fa2bb9a4b5a"
      },
      "execution_count": null,
      "outputs": [
        {
          "output_type": "stream",
          "name": "stdout",
          "text": [
            "2\n",
            "4\n",
            "6\n",
            "8\n",
            "10\n",
            "12\n",
            "14\n",
            "16\n",
            "18\n",
            "20\n"
          ]
        }
      ]
    }
  ]
}