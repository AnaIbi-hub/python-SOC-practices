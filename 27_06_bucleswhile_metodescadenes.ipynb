{
  "nbformat": 4,
  "nbformat_minor": 0,
  "metadata": {
    "colab": {
      "provenance": [],
      "authorship_tag": "ABX9TyNmeNNTP+8kWf6kcKJVviZ9",
      "include_colab_link": true
    },
    "kernelspec": {
      "name": "python3",
      "display_name": "Python 3"
    },
    "language_info": {
      "name": "python"
    }
  },
  "cells": [
    {
      "cell_type": "markdown",
      "metadata": {
        "id": "view-in-github",
        "colab_type": "text"
      },
      "source": [
        "<a href=\"https://colab.research.google.com/github/AnaIbi-hub/python-SOC-practices/blob/main/27_06_bucleswhile_metodescadenes.ipynb\" target=\"_parent\"><img src=\"https://colab.research.google.com/assets/colab-badge.svg\" alt=\"Open In Colab\"/></a>"
      ]
    },
    {
      "cell_type": "code",
      "execution_count": null,
      "metadata": {
        "colab": {
          "base_uri": "https://localhost:8080/"
        },
        "id": "DOC0xVK5OvV2",
        "outputId": "95caa41f-ea2a-4b91-fe25-59f5393674db"
      },
      "outputs": [
        {
          "output_type": "stream",
          "name": "stdout",
          "text": [
            "ideal\n",
            "irreal\n",
            "a ratos\n",
            "fin\n",
            "te engañe\n"
          ]
        }
      ],
      "source": [
        "cualquiera = [\"ideal\", \"irreal\", \"a ratos\", \"fin\", \"te engañe\"]\n",
        "\n",
        "for posicion in range(len(cualquiera)):\n",
        "  print(cualquiera[posicion])"
      ]
    },
    {
      "cell_type": "code",
      "source": [
        "llista = [\"ideal\", \"irreal\", \"a ratos\", \"fin\", \"te engañe\"]\n",
        "\n",
        "\"\"\"\n",
        "for palabra in llista:\n",
        "\n",
        "  if palabra == \"fin\":\n",
        "    break\n",
        "  print(palabra)\n",
        "\"\"\"\n",
        "\n",
        "for palabra in llista:\n",
        "  if palabra == \"fin\":\n",
        "    continue\n",
        "  print(palabra)\n",
        "\n",
        "print(\"********************************\")\n",
        "for palabra in llista:\n",
        "  if palabra != \"fin\":\n",
        "    print(palabra)"
      ],
      "metadata": {
        "colab": {
          "base_uri": "https://localhost:8080/"
        },
        "id": "BbPmm9D1STS9",
        "outputId": "6caceabe-52aa-4b75-aabb-bdc08daf200a"
      },
      "execution_count": null,
      "outputs": [
        {
          "output_type": "stream",
          "name": "stdout",
          "text": [
            "ideal\n",
            "irreal\n",
            "a ratos\n",
            "te engañe\n",
            "********************************\n",
            "ideal\n",
            "irreal\n",
            "a ratos\n",
            "te engañe\n"
          ]
        }
      ]
    },
    {
      "cell_type": "code",
      "source": [
        "#Versión bestia\n",
        "\n",
        "llista = [\"bonito\", \"ideal\", \"irreal\", \"a ratos\"]\n",
        "\n",
        "for pos in range(len(llista)):\n",
        "\n",
        "  if llista[pos] == \"fin\":\n",
        "    break\n",
        "  print(llista[pos])\n",
        "\n"
      ],
      "metadata": {
        "colab": {
          "base_uri": "https://localhost:8080/"
        },
        "id": "DFXGJDOjWmKx",
        "outputId": "8fbe76de-f8e3-4059-e095-c79d47e433b2"
      },
      "execution_count": null,
      "outputs": [
        {
          "output_type": "stream",
          "name": "stdout",
          "text": [
            "bonito\n",
            "ideal\n",
            "irreal\n",
            "a ratos\n"
          ]
        }
      ]
    },
    {
      "cell_type": "code",
      "source": [
        "llista = [\"ideal\", \"irreal\", \"a ratos\", \"fin\", \"te engañe\"]\n",
        "\n",
        "\"\"\"\n",
        "for palabra in llista:\n",
        "\n",
        "  if palabra == \"fin\":\n",
        "    break\n",
        "  print(palabra)\n",
        "\"\"\"\n",
        "# Opción 1 (continue): Salta la iteración si palabra == \"fin\"\n",
        "# Opción 2 (!=): Solo imprime si palabra NO es \"fin\" → Más claro en este caso\n",
        "\n",
        "for palabra in llista:\n",
        "  if palabra == \"fin\":\n",
        "    continue\n",
        "  print(palabra)\n",
        "\n",
        "print(\"********************************\")\n",
        "for palabra in llista:\n",
        "  if palabra != \"fin\":\n",
        "    print(palabra)"
      ],
      "metadata": {
        "id": "6klgkzAwW-SY"
      },
      "execution_count": null,
      "outputs": []
    },
    {
      "cell_type": "code",
      "source": [
        "# no me imprima la palabra fin pero no quiero que haga break\n",
        "\n",
        "llista = [\"ideal\", \"irreal\", \"a ratos\", \"fin\", \"te engañe\"]\n",
        "\n",
        "pos = 0\n",
        "while pos < len(llista):\n",
        "\n",
        "        if llista[pos] != \"fin\":\n",
        "\n",
        "            print(llista[pos])\n",
        "\n",
        "        pos = pos + 1"
      ],
      "metadata": {
        "colab": {
          "base_uri": "https://localhost:8080/"
        },
        "id": "F2lvk4jWoWof",
        "outputId": "095de673-780b-47e7-cdef-02287dcd3d9c"
      },
      "execution_count": null,
      "outputs": [
        {
          "output_type": "stream",
          "name": "stdout",
          "text": [
            "ideal\n",
            "irreal\n",
            "a ratos\n",
            "te engañe\n"
          ]
        }
      ]
    },
    {
      "cell_type": "code",
      "source": [
        "copia = llista.copy()  # Crea una copia de la lista original\n",
        "\n",
        "while copia:  # Mientras la copia no esté vacía\n",
        "    paraula = copia.pop(0)  # Extrae y elimina el primer elemento\n",
        "    if paraula != \"fin\":  # Si la palabra no es \"fin\"\n",
        "        print(paraula)  # Imprime la palabra"
      ],
      "metadata": {
        "colab": {
          "base_uri": "https://localhost:8080/"
        },
        "id": "roFStmBTwIlP",
        "outputId": "cfd9abe5-7590-4f64-c050-15c78506e2ae"
      },
      "execution_count": null,
      "outputs": [
        {
          "output_type": "stream",
          "name": "stdout",
          "text": [
            "ideal\n",
            "irreal\n",
            "a ratos\n",
            "te engañe\n"
          ]
        }
      ]
    },
    {
      "cell_type": "code",
      "source": [
        "\n",
        "\n",
        "cadena = \"Barcelona\"\n",
        "\n",
        "print(cadena.count('a'))\n",
        "\n",
        "#El programa revienta si no encuentra el caracter (por ejemplo A mayúscula)\n",
        "print(cadena.index('a'))\n",
        "\n",
        "print(cadena.find('A'))\n",
        "\n",
        "#El programa revienta si no encuentra el caracter (por ejemplo A mayúscula)\n",
        "print(cadena.rindex('a'))\n",
        "\n",
        "\n",
        "try:\n",
        "  #Con el try, no daría error, aunque hay que cerrarlo\n",
        "  print(cadena.index('a'))\n",
        "  print(cadena.rindex('a'))\n",
        "\n",
        "except ValueError:\n",
        "  pass #en este caso, no hay diferencia entre pass i continue\n",
        "\n",
        "print(\"continuacion\")\n"
      ],
      "metadata": {
        "colab": {
          "base_uri": "https://localhost:8080/"
        },
        "id": "igAN98GT3Lc_",
        "outputId": "38f23d93-0605-4c22-b020-72d3cb247bad"
      },
      "execution_count": null,
      "outputs": [
        {
          "output_type": "stream",
          "name": "stdout",
          "text": [
            "2\n",
            "1\n",
            "-1\n",
            "8\n",
            "1\n",
            "8\n",
            "continuacion\n"
          ]
        }
      ]
    },
    {
      "cell_type": "markdown",
      "source": [
        "Diferencia pass i continue\n",
        "\n",
        "\n",
        "Diferencia entre pass y continue en Python\n",
        "Ambas son palabras clave utilizadas para controlar el flujo en bucles (for, while) y estructuras condicionales (if), pero tienen comportamientos totalmente distintos.\n",
        "\n",
        "1. pass → \"No hagas nada\"\n",
        "Función: Es un marcador de posición que no ejecuta ninguna acción.\n",
        "\n",
        "Uso típico:\n",
        "\n",
        "Cuando necesitas una estructura sintácticamente correcta pero sin lógica (por definir más tarde).\n",
        "\n",
        "En funciones, clases o condiciones vacías.\n",
        "\n",
        "\n",
        "2. continue → \"Salta a la siguiente iteración\"\n",
        "Función: Detiene la iteración actual y vuelve al inicio del bucle para continuar con la siguiente.\n",
        "\n",
        "Uso típico:\n",
        "\n",
        "Para filtrar elementos en un bucle (ej.: omitir ciertos valores).\n",
        "\n"
      ],
      "metadata": {
        "id": "GnZJPEvF5zs1"
      }
    },
    {
      "cell_type": "markdown",
      "source": [
        "# Ahora estudiaremos el split, que es muy útil por ejemplo trabajando con cvs, data bases, excel, etc."
      ],
      "metadata": {
        "id": "2KV8u7O48x_q"
      }
    },
    {
      "cell_type": "code",
      "source": [
        "cadena = \"New Jersey;NY;NY Police Department;34;45;23;3;25\\n\"\n",
        "print(cadena, type(cadena))\n",
        "\n",
        "linia = cadena.partition(\";\")\n",
        "\n",
        "print(linia, type(linia))"
      ],
      "metadata": {
        "colab": {
          "base_uri": "https://localhost:8080/"
        },
        "id": "q4PoSn668y67",
        "outputId": "8577e014-eb29-4b05-d27a-4e7033fec678"
      },
      "execution_count": null,
      "outputs": [
        {
          "output_type": "stream",
          "name": "stdout",
          "text": [
            "New Jersey;NY;NY Police Department;34;45;23;3;25\n",
            " <class 'str'>\n",
            "('New Jersey', ';', 'NY;NY Police Department;34;45;23;3;25\\n') <class 'tuple'>\n"
          ]
        }
      ]
    },
    {
      "cell_type": "code",
      "source": [
        "cadena = \"Barcelona\"\n",
        "\n",
        "print(cadena == sorted(cadena))\n",
        "\n",
        "print(''.join(sorted(cadena)))\n",
        "\n",
        "print(sorted(cadena))\n",
        "\n",
        "print(cadena)\n",
        "\n",
        "\n",
        "cadena = \"Patata\"\n",
        "print(''.join(sorted(cadena))[1])\n",
        "print(sorted(cadena))\n",
        "\n",
        "print(\"*******************************\")\n",
        "ordenada= sorted(cadena)\n",
        "\n",
        "print(type(ordenada[0]))\n",
        "\n",
        "\n",
        "print(\"*******************************\")\n",
        "\n",
        "for element in ordenada:\n",
        "\n",
        "  print(element)\n",
        "\n",
        "print(\"*******************************\")\n",
        "\n",
        "cadena = \"Patata\"\n",
        "print(''.join(sorted(cadena))[1])\n",
        "print(\"*******************************\")\n",
        "\n",
        "l_ordenada = sorted(cadena)\n",
        "s_ordenada =''.join(l_ordenada)\n",
        "print(s_ordenada[0])"
      ],
      "metadata": {
        "colab": {
          "base_uri": "https://localhost:8080/"
        },
        "id": "PEhaaRDV-IMK",
        "outputId": "b7e82877-392b-44f4-8a24-7243805b0373"
      },
      "execution_count": null,
      "outputs": [
        {
          "output_type": "stream",
          "name": "stdout",
          "text": [
            "False\n",
            "Baacelnor\n",
            "['B', 'a', 'a', 'c', 'e', 'l', 'n', 'o', 'r']\n",
            "Barcelona\n",
            "a\n",
            "['P', 'a', 'a', 'a', 't', 't']\n",
            "*******************************\n",
            "<class 'str'>\n",
            "*******************************\n",
            "P\n",
            "a\n",
            "a\n",
            "a\n",
            "t\n",
            "t\n",
            "*******************************\n",
            "a\n",
            "*******************************\n",
            "P\n"
          ]
        }
      ]
    },
    {
      "cell_type": "code",
      "source": [
        "subcadena = \"bar\"\n",
        "\n",
        "cadena = \"barcelona\"\n",
        "\n",
        "print(subcadena in cadena)"
      ],
      "metadata": {
        "colab": {
          "base_uri": "https://localhost:8080/"
        },
        "id": "1kT1fbtyDE_t",
        "outputId": "611c624b-0769-4354-b398-14c8fc0e4060"
      },
      "execution_count": null,
      "outputs": [
        {
          "output_type": "stream",
          "name": "stdout",
          "text": [
            "True\n"
          ]
        }
      ]
    },
    {
      "cell_type": "code",
      "source": [
        "subcadena = \"bar\"\n",
        "\n",
        "cadena = \"Barcelona\"\n",
        "\n",
        "print(subcadena.lower() in cadena.lower())"
      ],
      "metadata": {
        "colab": {
          "base_uri": "https://localhost:8080/"
        },
        "id": "e4z2Xb21DjDk",
        "outputId": "d96b01ac-8c10-4933-f154-3726db4effea"
      },
      "execution_count": null,
      "outputs": [
        {
          "output_type": "stream",
          "name": "stdout",
          "text": [
            "True\n"
          ]
        }
      ]
    },
    {
      "cell_type": "code",
      "source": [
        "cadena = '1234'\n",
        "\n",
        "cadena2 = '12.34'\n",
        "\n",
        "print(cadena2.isdigit())"
      ],
      "metadata": {
        "colab": {
          "base_uri": "https://localhost:8080/"
        },
        "id": "6ePJD-r7Ecaj",
        "outputId": "cc12a366-3ed7-459a-ce55-2c757b2f3634"
      },
      "execution_count": null,
      "outputs": [
        {
          "output_type": "stream",
          "name": "stdout",
          "text": [
            "False\n"
          ]
        }
      ]
    },
    {
      "cell_type": "code",
      "source": [
        "cadena = 'alpha'\n",
        "\n",
        "cadena2 = '1234'\n",
        "\n",
        "print(cadena.isalnum())\n",
        "\n",
        "\n",
        "# Els dos donen true"
      ],
      "metadata": {
        "colab": {
          "base_uri": "https://localhost:8080/"
        },
        "id": "PPndXTV5F1LC",
        "outputId": "daaaa40e-394a-4040-d836-202af2603c1e"
      },
      "execution_count": null,
      "outputs": [
        {
          "output_type": "stream",
          "name": "stdout",
          "text": [
            "True\n"
          ]
        }
      ]
    },
    {
      "cell_type": "code",
      "source": [
        "cadena = '>1234'\n",
        "\n",
        "print(cadena.startswith(\">\"))\n",
        "\n",
        "print(cadena[0] == \">\")\n",
        "\n"
      ],
      "metadata": {
        "colab": {
          "base_uri": "https://localhost:8080/"
        },
        "id": "RXR9rIonHv7Q",
        "outputId": "68e6ce14-c540-417c-fd7f-af149f57b5a9"
      },
      "execution_count": null,
      "outputs": [
        {
          "output_type": "stream",
          "name": "stdout",
          "text": [
            "True\n",
            "True\n"
          ]
        }
      ]
    },
    {
      "cell_type": "markdown",
      "source": [
        "#classes i mètodes\n",
        "#Procediments o"
      ],
      "metadata": {
        "id": "Bf6iTSpNi8OQ"
      }
    },
    {
      "cell_type": "code",
      "source": [
        "#lo hemos hecho con metodo (startwith), ahora lo haremos con una función\n",
        "\n",
        "def empiezacon(s, caracter):\n",
        "  return s[0] == caracter\n",
        "cadena = \"Barcelona\"\n",
        "print(empiezacon(cadena, \"B\"))"
      ],
      "metadata": {
        "colab": {
          "base_uri": "https://localhost:8080/"
        },
        "id": "kMIFW2AkjCxv",
        "outputId": "b077c0d9-d0bd-4ca0-ec35-3f97dc4fec8e"
      },
      "execution_count": null,
      "outputs": [
        {
          "output_type": "stream",
          "name": "stdout",
          "text": [
            "True\n"
          ]
        }
      ]
    },
    {
      "cell_type": "code",
      "source": [
        "#vamos a ver lo mismo pero con listas\n",
        "\n",
        "def empiezacon(s, c):\n",
        "  return s[0] == c\n",
        "\n",
        "cadena = \"Barcelona\"\n",
        "\n",
        "llista = ['ideal', 'irreal', 'a ratos', 'fin', 'te lo creiste']\n",
        "\n",
        "caracter = \"i\"\n",
        "\n",
        "\n",
        "for paraula in llista:\n",
        "    print(empiezacon(paraula,caracter))"
      ],
      "metadata": {
        "id": "GkaXfm-ZsaCZ",
        "colab": {
          "base_uri": "https://localhost:8080/"
        },
        "outputId": "14e20a86-b3b3-4a7d-dff3-612f9e2be808"
      },
      "execution_count": null,
      "outputs": [
        {
          "output_type": "stream",
          "name": "stdout",
          "text": [
            "True\n",
            "True\n",
            "False\n",
            "False\n",
            "False\n"
          ]
        }
      ]
    },
    {
      "cell_type": "code",
      "source": [],
      "metadata": {
        "id": "DXB_x93Esb19"
      },
      "execution_count": null,
      "outputs": []
    }
  ]
}