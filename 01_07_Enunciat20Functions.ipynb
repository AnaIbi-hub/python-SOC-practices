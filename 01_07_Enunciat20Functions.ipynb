{
  "nbformat": 4,
  "nbformat_minor": 0,
  "metadata": {
    "colab": {
      "provenance": [],
      "include_colab_link": true
    },
    "kernelspec": {
      "name": "python3",
      "display_name": "Python 3"
    },
    "language_info": {
      "name": "python"
    }
  },
  "cells": [
    {
      "cell_type": "markdown",
      "metadata": {
        "id": "view-in-github",
        "colab_type": "text"
      },
      "source": [
        "<a href=\"https://colab.research.google.com/github/AnaIbi-hub/python-SOC-practices/blob/main/01_07_Enunciat20Functions.ipynb\" target=\"_parent\"><img src=\"https://colab.research.google.com/assets/colab-badge.svg\" alt=\"Open In Colab\"/></a>"
      ]
    },
    {
      "cell_type": "markdown",
      "source": [
        "1. Funció que pren com a paràmetre una llista de números i retorna una altra llista\n",
        "ordenada."
      ],
      "metadata": {
        "id": "UY0Q51fkzcjS"
      }
    },
    {
      "cell_type": "code",
      "source": [
        "lista = [4,3,2,1,8]\n",
        "print(sorted(lista))\n",
        "\n",
        "\n",
        "lista2 = [5,4,3,2,1]\n",
        "print(sorted(lista2))\n"
      ],
      "metadata": {
        "colab": {
          "base_uri": "https://localhost:8080/"
        },
        "id": "kx0LIk0izh57",
        "outputId": "00acf87a-c37f-4204-add9-996e3ce52678"
      },
      "execution_count": null,
      "outputs": [
        {
          "output_type": "stream",
          "name": "stdout",
          "text": [
            "[1, 2, 3, 4, 8]\n",
            "[1, 2, 3, 4, 5]\n"
          ]
        }
      ]
    },
    {
      "cell_type": "markdown",
      "source": [
        "[texto del enlace](https://)2. Funció que pren com a paràmetre una llista de números i retorna la suma dels seus\n",
        "elements"
      ],
      "metadata": {
        "id": "KL69DfYz00cY"
      }
    },
    {
      "cell_type": "code",
      "source": [
        "lista = [4,3,2,1,8]\n",
        "comptador = 0\n",
        "for numero in lista:\n",
        " comptador = comptador + numero\n",
        "\n",
        "print(comptador)\n",
        "\n",
        "lista2 = [5,4,3,2,1]\n",
        "comptador = 0\n",
        "for numero in lista2:\n",
        "  comptador = comptador + numero\n",
        "\n",
        "print(comptador)"
      ],
      "metadata": {
        "colab": {
          "base_uri": "https://localhost:8080/"
        },
        "id": "I3T_4IRu04IQ",
        "outputId": "5d0e8e4f-aec1-4ca3-dc14-3be17dc4e1da"
      },
      "execution_count": null,
      "outputs": [
        {
          "output_type": "stream",
          "name": "stdout",
          "text": [
            "18\n",
            "15\n"
          ]
        }
      ]
    },
    {
      "cell_type": "code",
      "source": [
        " Funció que pren com a paràmetre una llista de números i retorna la suma dels quadrats\n",
        "dels seus elements.\n"
      ],
      "metadata": {
        "id": "7u8Bk7tF3lHH"
      },
      "execution_count": null,
      "outputs": []
    },
    {
      "cell_type": "code",
      "source": [
        "lista = [4,3,2,1,8]\n",
        "suma = 0\n",
        "for numero in lista:\n",
        " suma  = suma + numero * numero\n",
        "# numero2 = numero + numero\n",
        "print(suma)\n",
        "\n",
        "lista2 = [5,4,3,2,1]\n",
        "suma2 = 0\n",
        "for numero in lista2:\n",
        " suma2  = suma2 + numero * numero\n",
        "# numero2 = numero + numero\n",
        "print(suma2)\n"
      ],
      "metadata": {
        "colab": {
          "base_uri": "https://localhost:8080/"
        },
        "id": "q-f4s27N4nUU",
        "outputId": "9d8fda67-8a6b-4a67-8f2f-b5693782b46e"
      },
      "execution_count": null,
      "outputs": [
        {
          "output_type": "stream",
          "name": "stdout",
          "text": [
            "94\n",
            "55\n"
          ]
        }
      ]
    },
    {
      "cell_type": "markdown",
      "source": [
        "4. Funció que pren com a paràmetre una llista de números i retorna la suma dels cubs dels seus elements."
      ],
      "metadata": {
        "id": "WFcyUhKa7DJ6"
      }
    },
    {
      "cell_type": "code",
      "source": [
        "lista = [4,3,2,1,8]\n",
        "suma = 0\n",
        "for numero in lista:\n",
        " suma  = suma + numero * numero * numero\n",
        "# numero2 = numero + numero\n",
        "print(suma)\n",
        "\n",
        "\n",
        "lista2 = [5,4,3,2,1]\n",
        "suma2 = 0\n",
        "for numero in lista2:\n",
        " suma2  = suma2 + numero * numero * numero\n",
        "# numero2 = numero + numero\n",
        "print(suma2)\n"
      ],
      "metadata": {
        "colab": {
          "base_uri": "https://localhost:8080/"
        },
        "id": "2DJHK-Sg7vQC",
        "outputId": "5326217e-4d59-4e8b-af88-cade4c6d49f2"
      },
      "execution_count": null,
      "outputs": [
        {
          "output_type": "stream",
          "name": "stdout",
          "text": [
            "612\n",
            "225\n"
          ]
        }
      ]
    },
    {
      "cell_type": "markdown",
      "source": [
        "5. Funció que pren com a paràmetre una llista de números i retorna el seu valor mínim.\n"
      ],
      "metadata": {
        "id": "A4gJI1KN8DEZ"
      }
    },
    {
      "cell_type": "code",
      "source": [
        "llista = [4,3,2,1,8]\n",
        "print(min(llista))\n",
        "\n",
        "llista2 = [5,4,3,2,1]\n",
        "print(min(llista2))"
      ],
      "metadata": {
        "colab": {
          "base_uri": "https://localhost:8080/"
        },
        "id": "8RUnA92E8IbR",
        "outputId": "d8e02796-8ed9-46be-99bd-e574319a0c11"
      },
      "execution_count": null,
      "outputs": [
        {
          "output_type": "stream",
          "name": "stdout",
          "text": [
            "1\n",
            "1\n"
          ]
        }
      ]
    },
    {
      "cell_type": "markdown",
      "source": [
        "6. Funció que pren com a paràmetre una llista de números i retorna el seu valor màxim."
      ],
      "metadata": {
        "id": "CxOoh6Ej_lWu"
      }
    },
    {
      "cell_type": "code",
      "source": [
        "llista = [4,3,2,1,8]\n",
        "print(max(llista))\n",
        "\n",
        "llista2 = [5,4,3,2,1]\n",
        "print(max(llista2))"
      ],
      "metadata": {
        "colab": {
          "base_uri": "https://localhost:8080/"
        },
        "id": "ArKyJ3iZ_nkV",
        "outputId": "d420daa9-882b-4cd2-c409-dc9ea6ebe09c"
      },
      "execution_count": null,
      "outputs": [
        {
          "output_type": "stream",
          "name": "stdout",
          "text": [
            "8\n",
            "5\n"
          ]
        }
      ]
    },
    {
      "cell_type": "markdown",
      "source": [
        "7. Funció que pren com a paràmetre una llista de números i retorna la llista en ordre invertit."
      ],
      "metadata": {
        "id": "Ty2aKX-2_uqO"
      }
    },
    {
      "cell_type": "code",
      "source": [
        "#Des d'aquí he necessitat ajuda amb ChatGPT\n",
        "\n",
        "def invertir_llista(llista):\n",
        "    llista.reverse()\n",
        "    return llista\n",
        "\n",
        "numeros = [4, 3, 2, 1, 8]\n",
        "print(invertir_llista(numeros))\n",
        "\n",
        "def inversio_llista2(llista2):\n",
        "    llista.reverse()\n",
        "    return llista2\n",
        "\n",
        "numeros = [5,4,3,2,1]\n",
        "print(invertir_llista(numeros))\n",
        "\n",
        "\n",
        "\n"
      ],
      "metadata": {
        "colab": {
          "base_uri": "https://localhost:8080/"
        },
        "id": "bnkwlR_I_8h2",
        "outputId": "d524ade9-391f-4a8c-ee5f-57730a6579ba"
      },
      "execution_count": null,
      "outputs": [
        {
          "output_type": "stream",
          "name": "stdout",
          "text": [
            "[8, 1, 2, 3, 4]\n",
            "[1, 2, 3, 4, 5]\n"
          ]
        }
      ]
    },
    {
      "cell_type": "markdown",
      "source": [
        "8. Funció que pren com a paràmetre una llista de números i retorna una altra llista amb els elements en posició parell."
      ],
      "metadata": {
        "id": "lxIQZLLuO3Y3"
      }
    },
    {
      "cell_type": "code",
      "source": [
        "def parells(llista):\n",
        "    return llista[0::2]\n",
        "\n",
        "numeros = [5, 4, 3, 2, 1]\n",
        "resultat = parells(numeros)\n",
        "print(resultat)\n",
        "\n",
        "print(\"*********************\")\n",
        "\n",
        "def parells(llista):\n",
        "    resultat = []\n",
        "    for posicio in range(len(llista)):\n",
        "        if posicio % 2 == 0:\n",
        "            resultat.append(llista[posicio])\n",
        "    return resultat\n",
        "\n",
        "numeros = [5, 4, 3, 2, 1]\n",
        "print(parells(numeros))\n"
      ],
      "metadata": {
        "colab": {
          "base_uri": "https://localhost:8080/"
        },
        "id": "Wtu5hWCgPCpH",
        "outputId": "ee998085-f5ed-49b7-f0f1-d83de5a562e1"
      },
      "execution_count": null,
      "outputs": [
        {
          "output_type": "stream",
          "name": "stdout",
          "text": [
            "[5, 3, 1]\n",
            "*********************\n",
            "[5, 3, 1]\n"
          ]
        }
      ]
    },
    {
      "cell_type": "markdown",
      "source": [
        "[texto del enlace](https://)9. Funció que pren com a paràmetre una llista de números i retorna una altra llista amb els elements en posició senar."
      ],
      "metadata": {
        "id": "q4KFig_7P0kW"
      }
    },
    {
      "cell_type": "code",
      "source": [
        "def parells(llista):\n",
        "    resultat = []\n",
        "    for posicio in range(len(llista)):\n",
        "        if posicio % 2 != 0:\n",
        "            resultat.append(llista[posicio])\n",
        "    return resultat\n",
        "\n",
        "numeros = [5, 4, 3, 2, 1]\n",
        "print(parells(numeros))"
      ],
      "metadata": {
        "colab": {
          "base_uri": "https://localhost:8080/"
        },
        "id": "6sbw6iSqP3B-",
        "outputId": "5cfe128a-3047-4fb6-dde1-32634b345330"
      },
      "execution_count": null,
      "outputs": [
        {
          "output_type": "stream",
          "name": "stdout",
          "text": [
            "[4, 2]\n"
          ]
        }
      ]
    },
    {
      "cell_type": "markdown",
      "source": [
        "10. Funció que pren com a paràmetre una llista de números i retorna una altra llista amb el número de dígits de cada element"
      ],
      "metadata": {
        "id": "SlrAb90uP3Te"
      }
    },
    {
      "cell_type": "code",
      "source": [
        "#convertirlo a str i fer la len\n",
        "\n",
        "listdigit = [4, 3, 2, 1, 8]\n",
        "#liststr = [len(str(num)) for num in listdigit]\n",
        "liststr = []\n",
        "\n",
        "for num in listdigit:\n",
        "    num = str(num)\n",
        "    longitud = len(num)\n",
        "    liststr.append(longitud)\n",
        "\n",
        "\n",
        "print(liststr)"
      ],
      "metadata": {
        "colab": {
          "base_uri": "https://localhost:8080/"
        },
        "id": "kYnjRbg6P57W",
        "outputId": "febf6e0a-f16a-439c-c623-a822464ee872"
      },
      "execution_count": null,
      "outputs": [
        {
          "output_type": "stream",
          "name": "stdout",
          "text": [
            "[1, 1, 1, 1, 1]\n"
          ]
        }
      ]
    },
    {
      "cell_type": "markdown",
      "source": [
        "11. Funció que pren com a paràmetre una llista de cadenes i retorna una altra llista amb la longitud de cadascuna de les cadenes que formen la llista."
      ],
      "metadata": {
        "id": "_Pi2oR-1P6u1"
      }
    },
    {
      "cell_type": "code",
      "source": [
        "listcadena = [\"Hola\", \"com\", \"estas\"]\n",
        "list2 = []\n",
        "for pos in range(len(listcadena)):\n",
        "     list2.append(len(listcadena[pos]))\n",
        "\n",
        "print(list2)\n"
      ],
      "metadata": {
        "colab": {
          "base_uri": "https://localhost:8080/"
        },
        "id": "l69Wk5LPQKgG",
        "outputId": "dbdbd891-1ef5-4adf-cf22-9b9a930c8dc6"
      },
      "execution_count": null,
      "outputs": [
        {
          "output_type": "stream",
          "name": "stdout",
          "text": [
            "[4, 3, 5]\n"
          ]
        }
      ]
    },
    {
      "cell_type": "markdown",
      "source": [
        "12. Funció que pren com a paràmetre una llista de cadenes i retorna una altra llista amb les mateixes cadenes en minúscules."
      ],
      "metadata": {
        "id": "2S5QAoQvQK2V"
      }
    },
    {
      "cell_type": "code",
      "source": [
        "def minuscula(listcadena):\n",
        "    nova_llista = []\n",
        "    for cadena in listcadena:\n",
        "        nova_llista.append(cadena.lower())\n",
        "    return nova_llista\n",
        "\n",
        "listcadena = [\"HOLA\", \"COM\", \"ESTAS\"]\n",
        "print(minuscula(listcadena))\n",
        "\n"
      ],
      "metadata": {
        "colab": {
          "base_uri": "https://localhost:8080/"
        },
        "id": "JL5xzFZNQPK-",
        "outputId": "7b9bc097-beac-4d60-964e-6fa36804995b"
      },
      "execution_count": null,
      "outputs": [
        {
          "output_type": "stream",
          "name": "stdout",
          "text": [
            "['hola', 'com', 'estas']\n"
          ]
        }
      ]
    },
    {
      "cell_type": "markdown",
      "source": [
        "13. Funció que pren com a paràmetre una llista de cadenes i retorna una altra llista amb les mateixes cadenes en majúscules."
      ],
      "metadata": {
        "id": "RCA7hBuwQPu-"
      }
    },
    {
      "cell_type": "code",
      "source": [
        "def minuscula(listcadena):\n",
        "    nova_llista = []\n",
        "    for cadena in listcadena:\n",
        "        nova_llista.append(cadena.upper())\n",
        "    return nova_llista\n",
        "\n",
        "listcadena = [\"hola\", \"com\", \"estas\"]\n",
        "print(minuscula(listcadena))"
      ],
      "metadata": {
        "colab": {
          "base_uri": "https://localhost:8080/"
        },
        "id": "ZaRiHkoSQYMF",
        "outputId": "a48fc8cc-e1b5-4cd6-ae4f-b2be2e6bc07c"
      },
      "execution_count": null,
      "outputs": [
        {
          "output_type": "stream",
          "name": "stdout",
          "text": [
            "['HOLA', 'COM', 'ESTAS']\n"
          ]
        }
      ]
    },
    {
      "cell_type": "markdown",
      "source": [
        "14. Funció que pren com a paràmetre una llista de cadenes i retorna una única cadena amb tots els elements concatenats (Suma d'strings o cadenes)."
      ],
      "metadata": {
        "id": "YxVjm2UmQYcW"
      }
    },
    {
      "cell_type": "code",
      "source": [
        "def unica(listcadena):\n",
        "    resultat = \"\".join(listcadena)\n",
        "    return resultat\n",
        "\n",
        "\n",
        "listcadena = [\"hola\", \"com\", \"estas\"]\n",
        "print(unica(listcadena))\n"
      ],
      "metadata": {
        "colab": {
          "base_uri": "https://localhost:8080/"
        },
        "id": "YK4FVlmvQaQd",
        "outputId": "6804e1c9-20df-438c-9c1c-e93615f01f79"
      },
      "execution_count": null,
      "outputs": [
        {
          "output_type": "stream",
          "name": "stdout",
          "text": [
            "holacomestas\n"
          ]
        }
      ]
    },
    {
      "cell_type": "markdown",
      "source": [
        "15. Funció que pren com a paràmetre una llista de cadenes i retorna una altra llista amb les mateixes cadenes ordenades en ordre alfabètic."
      ],
      "metadata": {
        "id": "sh2TMdKEQaoW"
      }
    },
    {
      "cell_type": "code",
      "source": [
        "\n",
        "\n",
        "listdigit = [\"hola\", \"com\", \"estas\"]\n",
        "\n",
        "def ordenar(llista):\n",
        "    return sorted(llista)\n",
        "\n",
        "listdigit = [\"hola\", \"com\", \"estas\"]\n",
        "print(ordenar(listdigit))\n"
      ],
      "metadata": {
        "colab": {
          "base_uri": "https://localhost:8080/"
        },
        "id": "5-4DE5XTQcss",
        "outputId": "250a8ec6-e8bf-4e73-f2f7-bec499413f89"
      },
      "execution_count": null,
      "outputs": [
        {
          "output_type": "stream",
          "name": "stdout",
          "text": [
            "['com', 'estas', 'hola']\n"
          ]
        }
      ]
    },
    {
      "cell_type": "markdown",
      "source": [
        "16. Funció que pren com a paràmetre una llista de cadenes i retorna una altra llista amb les cadenes que es troben en posició parell."
      ],
      "metadata": {
        "id": "5FUhxj1FQdud"
      }
    },
    {
      "cell_type": "code",
      "source": [
        "listdigit = [\"hola\", \"com\", \"estas\"]\n",
        "liststr = []\n",
        "\n",
        "for num in range(len(listdigit)):\n",
        "    if num % 2 == 0:\n",
        "        liststr.append(listdigit[num])\n",
        "\n",
        "print(liststr)"
      ],
      "metadata": {
        "colab": {
          "base_uri": "https://localhost:8080/"
        },
        "id": "Z5muu97_Qfg2",
        "outputId": "5ee2083b-0e8f-41d6-b264-e9ba6a3d863e"
      },
      "execution_count": null,
      "outputs": [
        {
          "output_type": "stream",
          "name": "stdout",
          "text": [
            "['hola', 'estas']\n"
          ]
        }
      ]
    },
    {
      "cell_type": "markdown",
      "source": [
        "17. Funció que pren com a paràmetre una llista de cadenes i retorna una altra llista amb les cadenes que es troben en posició senar."
      ],
      "metadata": {
        "id": "azGkDt0rQfw2"
      }
    },
    {
      "cell_type": "code",
      "source": [
        "listdigit = [\"hola\", \"com\", \"estas\"]\n",
        "liststr = []\n",
        "\n",
        "for num in range(len(listdigit)):\n",
        "    if num % 2 != 0:\n",
        "        liststr.append(listdigit[num])\n",
        "\n",
        "print(liststr)\n"
      ],
      "metadata": {
        "colab": {
          "base_uri": "https://localhost:8080/"
        },
        "id": "Dw4UyyvkQiLt",
        "outputId": "817cf13f-bcf4-44dd-ef1c-affac6a59098"
      },
      "execution_count": null,
      "outputs": [
        {
          "output_type": "stream",
          "name": "stdout",
          "text": [
            "['com']\n"
          ]
        }
      ]
    },
    {
      "cell_type": "markdown",
      "source": [
        "18. Funció que pren com a paràmetre una llista de cadenes i retorna una altra llista amb les mateixes cadenes sense l'últim caràcter."
      ],
      "metadata": {
        "id": "gd_8FfNJQirm"
      }
    },
    {
      "cell_type": "code",
      "source": [
        "def caracter(llista):\n",
        "    nova_llista = []\n",
        "    for cadena in llista:\n",
        "        nova_llista.append(cadena[:-1])\n",
        "    return nova_llista\n",
        "\n",
        "listdigit = [\"hola\", \"com\", \"estas\"]\n",
        "print(caracter(listdigit))\n"
      ],
      "metadata": {
        "colab": {
          "base_uri": "https://localhost:8080/"
        },
        "id": "MCvnlbtyQkpE",
        "outputId": "2091c831-dde4-41dc-ad11-05079b537469"
      },
      "execution_count": null,
      "outputs": [
        {
          "output_type": "stream",
          "name": "stdout",
          "text": [
            "['hol', 'co', 'esta']\n"
          ]
        }
      ]
    },
    {
      "cell_type": "markdown",
      "source": [
        "19. Funció que pren com a paràmetre una llista de cadenes i retorna una altra llista amb les mateixes cadenes sense el primer caràcter."
      ],
      "metadata": {
        "id": "ej5f2nouQk8k"
      }
    },
    {
      "cell_type": "code",
      "source": [
        "def caracter(llista):\n",
        "    nova_llista = []\n",
        "    for cadena in llista:\n",
        "        nova_llista.append(cadena[1:])\n",
        "    return nova_llista\n",
        "\n",
        "listdigit = [\"hola\", \"com\", \"estas\"]\n",
        "print(caracter(listdigit))"
      ],
      "metadata": {
        "colab": {
          "base_uri": "https://localhost:8080/"
        },
        "id": "K_vt9VIyQnPV",
        "outputId": "7efcdd9b-322d-4bfb-c9f0-f56628c4d9ce"
      },
      "execution_count": null,
      "outputs": [
        {
          "output_type": "stream",
          "name": "stdout",
          "text": [
            "['ola', 'om', 'stas']\n"
          ]
        }
      ]
    },
    {
      "cell_type": "markdown",
      "source": [
        "20. Funció que pren com a paràmetre una llista de cadenes i retorna una altra\n",
        "llista amb les mateixes cadenes invertides."
      ],
      "metadata": {
        "id": "HwCdnJt3QouN"
      }
    },
    {
      "cell_type": "code",
      "source": [
        "def caracter(llista):\n",
        "    resultat = []\n",
        "    for cadena in llista:\n",
        "       nova_cadena = \"\"\n",
        "       for posicio in range(len(cadena)-1, -1, -1):\n",
        "         nova_cadena += cadena[posicio]\n",
        "       resultat.append(nova_cadena)\n",
        "\n",
        "    return resultat\n",
        "\n",
        "llista = [\"hola\", \"com\", \"estas\"]\n",
        "print(caracter(llista))\n",
        "\n",
        "\n"
      ],
      "metadata": {
        "colab": {
          "base_uri": "https://localhost:8080/"
        },
        "id": "kSk7WegXQqvt",
        "outputId": "bf79e4fd-6ca9-4324-e29f-827cf8b4fce4"
      },
      "execution_count": null,
      "outputs": [
        {
          "output_type": "stream",
          "name": "stdout",
          "text": [
            "['aloh', 'moc', 'satse']\n"
          ]
        }
      ]
    },
    {
      "cell_type": "code",
      "source": [],
      "metadata": {
        "id": "HtazVgFRlRCU"
      },
      "execution_count": null,
      "outputs": []
    }
  ]
}