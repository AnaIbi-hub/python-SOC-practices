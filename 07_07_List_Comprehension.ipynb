{
  "nbformat": 4,
  "nbformat_minor": 0,
  "metadata": {
    "colab": {
      "provenance": [],
      "authorship_tag": "ABX9TyNUmwf0cm4gJrU1w17vwwBl",
      "include_colab_link": true
    },
    "kernelspec": {
      "name": "python3",
      "display_name": "Python 3"
    },
    "language_info": {
      "name": "python"
    }
  },
  "cells": [
    {
      "cell_type": "markdown",
      "metadata": {
        "id": "view-in-github",
        "colab_type": "text"
      },
      "source": [
        "<a href=\"https://colab.research.google.com/github/AnaIbi-hub/python-SOC-practices/blob/main/07_07_List_Comprehension.ipynb\" target=\"_parent\"><img src=\"https://colab.research.google.com/assets/colab-badge.svg\" alt=\"Open In Colab\"/></a>"
      ]
    },
    {
      "cell_type": "code",
      "execution_count": null,
      "metadata": {
        "colab": {
          "base_uri": "https://localhost:8080/"
        },
        "id": "n1bbcfvnr6rf",
        "outputId": "15036872-ea26-479f-b48e-64adf31d31f7"
      },
      "outputs": [
        {
          "output_type": "stream",
          "name": "stdout",
          "text": [
            "[26, 24, 24, 246, 30, 28, 28, 34]\n"
          ]
        }
      ],
      "source": [
        "#list comprehension\n",
        "\n",
        "llista = [13,12,12,123,15,14,14,17]\n",
        "\n",
        "#resultat = []\n",
        "\n",
        "#for numero in llista:\n",
        "  #resultat.append(numero * 2)\n",
        "\n",
        "#ara apliquem el list comprehension, una forma directa de crear una llista\n",
        "\n",
        "\n",
        "resultat = [numero * 2 for numero in llista] #subtitueix una llista buida i appends\n",
        "print(resultat)\n"
      ]
    },
    {
      "cell_type": "code",
      "source": [
        "#tres maneras dee hacerlo\n",
        "\n",
        "#list comprehension\n",
        "import random\n",
        "llista = [13,12,12,123,15,14,14,17]\n",
        "\n",
        "resultat = []\n",
        "\n",
        "#A version. Easy way\n",
        "\n",
        "for numero in llista:\n",
        "  resultat.append(numero * 2)\n",
        "print(resultat)\n",
        "\n",
        "\n",
        "#B version, Black Sabbath, Old rockers never die\n",
        "resultat = []\n",
        "for pos in range(len(llista)):\n",
        "  resultat.append(llista[pos] * 2)\n",
        "print(resultat)\n",
        "\n",
        "#C version, list comprehension\n",
        "\n",
        "resultat = [numero * 2 for numero in llista]\n",
        "print(resultat)\n",
        "\n",
        "\n",
        "#Exemple 1 ús de list comprehension\n",
        "# crear una llista amb 100 elements a 0\n",
        "llista = 100 * [0]\n",
        "llista = [random.randrange(1,100) for iteracion in range(100)]\n",
        "print(llista)\n",
        "\n",
        "\n",
        "\n",
        "#numeros pares imprime los elementos en posicion par\n",
        "llista = [10,11,12,14,14,15]\n",
        "resultat = []\n",
        "\n",
        "for numero in llista:\n",
        "  if numero % 2 == 0:\n",
        "    resultat.append(numero)\n",
        "print(resultat)\n",
        "\n",
        "resultat = [numero for numero in llista if numero % 2 == 0]\n",
        "\n",
        "resultat = [llista[pos] for pos in range(len(llista)) if pos %2 == 0]\n"
      ],
      "metadata": {
        "colab": {
          "base_uri": "https://localhost:8080/"
        },
        "id": "zk0ZeEUPuI3F",
        "outputId": "c97250bc-a89f-4a11-bd3c-e762b847d273"
      },
      "execution_count": null,
      "outputs": [
        {
          "output_type": "stream",
          "name": "stdout",
          "text": [
            "[26, 24, 24, 246, 30, 28, 28, 34]\n",
            "[26, 24, 24, 246, 30, 28, 28, 34]\n",
            "[26, 24, 24, 246, 30, 28, 28, 34]\n",
            "[29, 99, 59, 50, 89, 85, 86, 37, 66, 14, 26, 37, 24, 29, 60, 72, 35, 5, 85, 62, 67, 11, 29, 17, 80, 42, 46, 62, 42, 64, 20, 43, 26, 84, 16, 38, 48, 28, 53, 34, 37, 60, 21, 56, 43, 13, 47, 14, 52, 47, 28, 18, 67, 13, 87, 15, 9, 75, 86, 27, 9, 89, 76, 30, 58, 99, 70, 84, 95, 40, 47, 48, 32, 48, 90, 58, 6, 17, 44, 4, 35, 55, 93, 34, 56, 40, 51, 35, 17, 65, 13, 42, 32, 31, 60, 66, 27, 60, 84, 87]\n",
            "[10, 12, 14, 14]\n"
          ]
        }
      ]
    },
    {
      "cell_type": "code",
      "source": [],
      "metadata": {
        "id": "MgIQk9FfuLKL"
      },
      "execution_count": null,
      "outputs": []
    }
  ]
}