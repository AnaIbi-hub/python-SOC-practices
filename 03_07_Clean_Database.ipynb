{
  "nbformat": 4,
  "nbformat_minor": 0,
  "metadata": {
    "colab": {
      "provenance": [],
      "authorship_tag": "ABX9TyM5I3Zt563+y3YKgsIMp9PU",
      "include_colab_link": true
    },
    "kernelspec": {
      "name": "python3",
      "display_name": "Python 3"
    },
    "language_info": {
      "name": "python"
    }
  },
  "cells": [
    {
      "cell_type": "markdown",
      "metadata": {
        "id": "view-in-github",
        "colab_type": "text"
      },
      "source": [
        "<a href=\"https://colab.research.google.com/github/AnaIbi-hub/python-SOC-practices/blob/main/03_07_Clean_Database.ipynb\" target=\"_parent\"><img src=\"https://colab.research.google.com/assets/colab-badge.svg\" alt=\"Open In Colab\"/></a>"
      ]
    },
    {
      "cell_type": "code",
      "execution_count": null,
      "metadata": {
        "id": "S64cWrAdOAVC"
      },
      "outputs": [],
      "source": [
        "#Avui treballarem amb informació str\n",
        "#Primer començariem fer un for in llista, per saber quina columna anem a atacar\n",
        "\n",
        "for llista in llista_nova:\n",
        "  genere.append(llista[2])\n",
        "\n",
        "genere = genere[1:] #Tota la columna genere de tots i totes les enquestades\n",
        "variants_genere = set(genere) #Male, Female, Prefer_not_to_say, Non-binary\n",
        "\n",
        "for gender in variants_genere:\n",
        "    print(f\"hi ha {genere.count(gender)} del genere {gender}\")\n",
        "\n",
        "#print(variants_genere)"
      ]
    }
  ]
}