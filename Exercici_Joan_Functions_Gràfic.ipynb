{
  "nbformat": 4,
  "nbformat_minor": 0,
  "metadata": {
    "colab": {
      "provenance": [],
      "authorship_tag": "ABX9TyMIz4it1mgTdqfMaolxVrzC",
      "include_colab_link": true
    },
    "kernelspec": {
      "name": "python3",
      "display_name": "Python 3"
    },
    "language_info": {
      "name": "python"
    }
  },
  "cells": [
    {
      "cell_type": "markdown",
      "metadata": {
        "id": "view-in-github",
        "colab_type": "text"
      },
      "source": [
        "<a href=\"https://colab.research.google.com/github/AnaIbi-hub/python-SOC-practices/blob/main/Exercici_Joan_Functions_Gr%C3%A0fic.ipynb\" target=\"_parent\"><img src=\"https://colab.research.google.com/assets/colab-badge.svg\" alt=\"Open In Colab\"/></a>"
      ]
    },
    {
      "cell_type": "markdown",
      "source": [
        "#Comentari: a notepad funciona perfectament"
      ],
      "metadata": {
        "id": "NoCp3egr_Ls2"
      }
    },
    {
      "cell_type": "markdown",
      "source": [
        "Funció que pren com a paràmetre una llista de números i retorna la suma dels seus\n",
        "elements\n",
        "\n"
      ],
      "metadata": {
        "id": "G_LEPR5B_JHW"
      }
    },
    {
      "cell_type": "code",
      "source": [
        "import tkinter as tk\n",
        "\n",
        "def procesar_numero():\n",
        "    cadena = e1.get()\n",
        "    lista = cadena.split(',')\n",
        "    resultado = []\n",
        "\n",
        "    for numero in lista:\n",
        "        resultado.append(int(numero))\n",
        "\n",
        "    comptador = 0\n",
        "    for numero in resultado:\n",
        "        comptador = comptador + numero\n",
        "\n",
        "    etiqueta_resultado.config(text=f\"{comptador}\")\n",
        "\n",
        "# Crear ventana principal\n",
        "root = tk.Tk()\n",
        "amplada = root.winfo_screenwidth() // 3\n",
        "alcada = root.winfo_screenheight() // 3\n",
        "root.geometry(f\"{amplada}x{alcada}\")\n",
        "\n",
        "# Canvas de fondo\n",
        "canvas = tk.Canvas(root, bg='#FFD700', width=amplada, height=alcada)\n",
        "canvas.place(x=0, y=0)\n",
        "\n",
        "# Entry para ingresar el texto\n",
        "e1 = tk.Entry(canvas)\n",
        "e1.place(x=amplada // 2, y=2 * alcada // 10, width=200, height=25, anchor=tk.CENTER)\n",
        "\n",
        "# Botón que llama a la función procesar_numero\n",
        "b1 = tk.Button(canvas, text=\"Hazme Click\", command=procesar_numero)\n",
        "b1.place(x=amplada // 2, y=8 * alcada // 10, width=100, height=25, anchor=tk.CENTER)\n",
        "\n",
        "# Label de instrucción\n",
        "label_instruccion = tk.Label(canvas, text='Números separados por coma en la Entry', font=('Arial', 10), bg=canvas.cget('bg'))\n",
        "label_instruccion.place(x=amplada // 2, y=alcada // 3, anchor=\"center\")\n",
        "\n",
        "# Label para mostrar el resultado\n",
        "etiqueta_resultado = tk.Label(canvas, text='Resultado:', font=('Arial', 12), bg=canvas.cget('bg'))\n",
        "etiqueta_resultado.place(x=amplada // 2, y=alcada // 2, anchor=\"center\")\n",
        "\n",
        "root.mainloop()\n"
      ],
      "metadata": {
        "colab": {
          "base_uri": "https://localhost:8080/",
          "height": 349
        },
        "id": "DXNfN4TQ-g2f",
        "outputId": "8a9c1249-589a-412a-e0db-2e58555ab7d1"
      },
      "execution_count": null,
      "outputs": [
        {
          "output_type": "error",
          "ename": "TclError",
          "evalue": "no display name and no $DISPLAY environment variable",
          "traceback": [
            "\u001b[0;31m---------------------------------------------------------------------------\u001b[0m",
            "\u001b[0;31mTclError\u001b[0m                                  Traceback (most recent call last)",
            "\u001b[0;32m/tmp/ipython-input-7-664951335.py\u001b[0m in \u001b[0;36m<cell line: 0>\u001b[0;34m()\u001b[0m\n\u001b[1;32m     16\u001b[0m \u001b[0;34m\u001b[0m\u001b[0m\n\u001b[1;32m     17\u001b[0m \u001b[0;31m# Crear ventana principal\u001b[0m\u001b[0;34m\u001b[0m\u001b[0;34m\u001b[0m\u001b[0m\n\u001b[0;32m---> 18\u001b[0;31m \u001b[0mroot\u001b[0m \u001b[0;34m=\u001b[0m \u001b[0mtk\u001b[0m\u001b[0;34m.\u001b[0m\u001b[0mTk\u001b[0m\u001b[0;34m(\u001b[0m\u001b[0;34m)\u001b[0m\u001b[0;34m\u001b[0m\u001b[0;34m\u001b[0m\u001b[0m\n\u001b[0m\u001b[1;32m     19\u001b[0m \u001b[0mamplada\u001b[0m \u001b[0;34m=\u001b[0m \u001b[0mroot\u001b[0m\u001b[0;34m.\u001b[0m\u001b[0mwinfo_screenwidth\u001b[0m\u001b[0;34m(\u001b[0m\u001b[0;34m)\u001b[0m \u001b[0;34m//\u001b[0m \u001b[0;36m3\u001b[0m\u001b[0;34m\u001b[0m\u001b[0;34m\u001b[0m\u001b[0m\n\u001b[1;32m     20\u001b[0m \u001b[0malcada\u001b[0m \u001b[0;34m=\u001b[0m \u001b[0mroot\u001b[0m\u001b[0;34m.\u001b[0m\u001b[0mwinfo_screenheight\u001b[0m\u001b[0;34m(\u001b[0m\u001b[0;34m)\u001b[0m \u001b[0;34m//\u001b[0m \u001b[0;36m3\u001b[0m\u001b[0;34m\u001b[0m\u001b[0;34m\u001b[0m\u001b[0m\n",
            "\u001b[0;32m/usr/lib/python3.11/tkinter/__init__.py\u001b[0m in \u001b[0;36m__init__\u001b[0;34m(self, screenName, baseName, className, useTk, sync, use)\u001b[0m\n\u001b[1;32m   2324\u001b[0m                 \u001b[0mbaseName\u001b[0m \u001b[0;34m=\u001b[0m \u001b[0mbaseName\u001b[0m \u001b[0;34m+\u001b[0m \u001b[0mext\u001b[0m\u001b[0;34m\u001b[0m\u001b[0;34m\u001b[0m\u001b[0m\n\u001b[1;32m   2325\u001b[0m         \u001b[0minteractive\u001b[0m \u001b[0;34m=\u001b[0m \u001b[0;32mFalse\u001b[0m\u001b[0;34m\u001b[0m\u001b[0;34m\u001b[0m\u001b[0m\n\u001b[0;32m-> 2326\u001b[0;31m         \u001b[0mself\u001b[0m\u001b[0;34m.\u001b[0m\u001b[0mtk\u001b[0m \u001b[0;34m=\u001b[0m \u001b[0m_tkinter\u001b[0m\u001b[0;34m.\u001b[0m\u001b[0mcreate\u001b[0m\u001b[0;34m(\u001b[0m\u001b[0mscreenName\u001b[0m\u001b[0;34m,\u001b[0m \u001b[0mbaseName\u001b[0m\u001b[0;34m,\u001b[0m \u001b[0mclassName\u001b[0m\u001b[0;34m,\u001b[0m \u001b[0minteractive\u001b[0m\u001b[0;34m,\u001b[0m \u001b[0mwantobjects\u001b[0m\u001b[0;34m,\u001b[0m \u001b[0museTk\u001b[0m\u001b[0;34m,\u001b[0m \u001b[0msync\u001b[0m\u001b[0;34m,\u001b[0m \u001b[0muse\u001b[0m\u001b[0;34m)\u001b[0m\u001b[0;34m\u001b[0m\u001b[0;34m\u001b[0m\u001b[0m\n\u001b[0m\u001b[1;32m   2327\u001b[0m         \u001b[0;32mif\u001b[0m \u001b[0museTk\u001b[0m\u001b[0;34m:\u001b[0m\u001b[0;34m\u001b[0m\u001b[0;34m\u001b[0m\u001b[0m\n\u001b[1;32m   2328\u001b[0m             \u001b[0mself\u001b[0m\u001b[0;34m.\u001b[0m\u001b[0m_loadtk\u001b[0m\u001b[0;34m(\u001b[0m\u001b[0;34m)\u001b[0m\u001b[0;34m\u001b[0m\u001b[0;34m\u001b[0m\u001b[0m\n",
            "\u001b[0;31mTclError\u001b[0m: no display name and no $DISPLAY environment variable"
          ]
        }
      ]
    },
    {
      "cell_type": "markdown",
      "source": [
        " Funció que pren com a paràmetre una llista de números i retorna la suma dels quadrats\n",
        "dels seus elements."
      ],
      "metadata": {
        "id": "G96Wl378_qtW"
      }
    },
    {
      "cell_type": "code",
      "source": [
        "import tkinter as tk\n",
        "\n",
        "def procesar_numero():\n",
        "    cadena = e1.get()\n",
        "    lista = cadena.split(',')\n",
        "    resultado = []\n",
        "\n",
        "    for numero in lista:\n",
        "        resultado.append(int(numero))\n",
        "\n",
        "    comptador = 0\n",
        "    for numero in resultado:\n",
        "        comptador  = comptador + numero * numero\n",
        "\n",
        "    etiqueta_resultado.config(text=f\"{comptador}\")\n",
        "\n",
        "# Crear ventana principal\n",
        "root = tk.Tk()\n",
        "amplada = root.winfo_screenwidth() // 3\n",
        "alcada = root.winfo_screenheight() // 3\n",
        "root.geometry(f\"{amplada}x{alcada}\")\n",
        "\n",
        "# Canvas de fondo\n",
        "canvas = tk.Canvas(root, bg='#FFD700', width=amplada, height=alcada)\n",
        "canvas.place(x=0, y=0)\n",
        "\n",
        "# Entry para ingresar el texto\n",
        "e1 = tk.Entry(canvas)\n",
        "e1.place(x=amplada // 2, y=2 * alcada // 10, width=200, height=25, anchor=tk.CENTER)\n",
        "\n",
        "# Botón que llama a la función procesar_numero\n",
        "b1 = tk.Button(canvas, text=\"Hazme Click\", command=procesar_numero)\n",
        "b1.place(x=amplada // 2, y=8 * alcada // 10, width=100, height=25, anchor=tk.CENTER)\n",
        "\n",
        "# Label de instrucción\n",
        "label_instruccion = tk.Label(canvas, text='Números separados por coma en la Entry', font=('Arial', 10), bg=canvas.cget('bg'))\n",
        "label_instruccion.place(x=amplada // 2, y=alcada // 3, anchor=\"center\")\n",
        "\n",
        "# Label para mostrar el resultado\n",
        "etiqueta_resultado = tk.Label(canvas, text='Resultado:', font=('Arial', 12), bg=canvas.cget('bg'))\n",
        "etiqueta_resultado.place(x=amplada // 2, y=alcada // 2, anchor=\"center\")\n",
        "\n",
        "root.mainloop()\n"
      ],
      "metadata": {
        "id": "8vb_2t7n_vgF"
      },
      "execution_count": null,
      "outputs": []
    },
    {
      "cell_type": "markdown",
      "source": [],
      "metadata": {
        "id": "ccHlnaN-_xs0"
      }
    }
  ]
}