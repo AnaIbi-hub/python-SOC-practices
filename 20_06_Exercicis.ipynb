{
  "nbformat": 4,
  "nbformat_minor": 0,
  "metadata": {
    "colab": {
      "provenance": [],
      "authorship_tag": "ABX9TyPBQib439R2IDM34pHS0f4j",
      "include_colab_link": true
    },
    "kernelspec": {
      "name": "python3",
      "display_name": "Python 3"
    },
    "language_info": {
      "name": "python"
    }
  },
  "cells": [
    {
      "cell_type": "markdown",
      "metadata": {
        "id": "view-in-github",
        "colab_type": "text"
      },
      "source": [
        "<a href=\"https://colab.research.google.com/github/AnaIbi-hub/python-SOC-practices/blob/main/20_06_Exercicis.ipynb\" target=\"_parent\"><img src=\"https://colab.research.google.com/assets/colab-badge.svg\" alt=\"Open In Colab\"/></a>"
      ]
    },
    {
      "cell_type": "markdown",
      "source": [
        "1. Mostra cada lletra d'una paraula en una línia diferent (exemple: Barcelona)\n",
        "B\n",
        "a\n",
        "r"
      ],
      "metadata": {
        "id": "87mo22naSqXR"
      }
    },
    {
      "cell_type": "code",
      "source": [
        "cadena=\"Barcelona\"\n",
        "for posicion in range(len(cadena)):\n",
        "  print(cadena[posicion])"
      ],
      "metadata": {
        "colab": {
          "base_uri": "https://localhost:8080/"
        },
        "id": "fxloLS16S_Dh",
        "outputId": "4c5dd68f-276c-4012-d510-c2ac81fed923"
      },
      "execution_count": null,
      "outputs": [
        {
          "output_type": "stream",
          "name": "stdout",
          "text": [
            "B\n",
            "a\n",
            "r\n",
            "c\n",
            "e\n",
            "l\n",
            "o\n",
            "n\n",
            "a\n"
          ]
        }
      ]
    },
    {
      "cell_type": "markdown",
      "source": [
        "2. Compta quantes vocals hi ha en una cadena.\n",
        "Exemple: \"informàtica\". 5 vocals.\n",
        "pista: caracter in \"aeiouáéíóú\"; contador +=1"
      ],
      "metadata": {
        "id": "qv5L8mgwTNhJ"
      }
    },
    {
      "cell_type": "code",
      "source": [
        "cadena = \"abracadabra\"\n",
        "contador = 0\n",
        "for posicio in range(len(cadena)):\n",
        "    if cadena[posicio] in \"aeiouáéíóú\":\n",
        "        contador += 1\n",
        "\n",
        "print(f\"En '{cadena}' hi ha {contador} vocals\")"
      ],
      "metadata": {
        "colab": {
          "base_uri": "https://localhost:8080/"
        },
        "id": "iuiU50l4Ut0W",
        "outputId": "05658c4f-913e-4b57-ddff-a8354386f3f7"
      },
      "execution_count": null,
      "outputs": [
        {
          "output_type": "stream",
          "name": "stdout",
          "text": [
            "En 'abracadabra' hi ha 5 vocals\n"
          ]
        }
      ]
    },
    {
      "cell_type": "markdown",
      "source": [
        "3. Imprimeix tots els elements d’una llista de noms en majúscules.\n",
        "Exemple: ['Anna', 'Joan', 'Pau'] → 'ANNA', 'JOAN', 'PAU'\n",
        "Pista: Utilitza la funció upper() de les cadenes."
      ],
      "metadata": {
        "id": "JVW9SuhyTmCP"
      }
    },
    {
      "cell_type": "code",
      "source": [
        "llista = ['Anna', 'Joan', 'Pau']\n",
        "for posicio in range(len(llista)):\n",
        "    print(llista[posicio].upper())"
      ],
      "metadata": {
        "colab": {
          "base_uri": "https://localhost:8080/"
        },
        "id": "kVbtoOA4Utm-",
        "outputId": "4c02ac93-8120-4f3f-9f96-97d9f7c04f77"
      },
      "execution_count": null,
      "outputs": [
        {
          "output_type": "stream",
          "name": "stdout",
          "text": [
            "ANNA\n",
            "JOAN\n",
            "PAU\n"
          ]
        }
      ]
    },
    {
      "cell_type": "markdown",
      "source": [
        "4. Concatenar els elements d’una llista de paraules separant-los per espais.\n",
        "Exemple: ['bon', 'dia', 'a', 'tothom'] → 'bon dia a tothom'\n",
        "Pista: print(cadena, end = \" \")"
      ],
      "metadata": {
        "id": "wiGM-FjpUewv"
      }
    },
    {
      "cell_type": "code",
      "source": [
        "llista =  ['bon', 'dia', 'a', 'tothom']\n",
        "for posicio in range(len(llista)):\n",
        "  print(llista[posicio], end = ' ')"
      ],
      "metadata": {
        "colab": {
          "base_uri": "https://localhost:8080/",
          "height": 176
        },
        "id": "yKDLvAHSUuS3",
        "outputId": "2c2816d4-12cf-4a4c-e85c-3755875f1cca"
      },
      "execution_count": null,
      "outputs": [
        {
          "output_type": "error",
          "ename": "NameError",
          "evalue": "name 'end' is not defined",
          "traceback": [
            "\u001b[0;31m---------------------------------------------------------------------------\u001b[0m",
            "\u001b[0;31mNameError\u001b[0m                                 Traceback (most recent call last)",
            "\u001b[0;32m/tmp/ipython-input-23-2377961819.py\u001b[0m in \u001b[0;36m<cell line: 0>\u001b[0;34m()\u001b[0m\n\u001b[1;32m      1\u001b[0m \u001b[0mllista\u001b[0m \u001b[0;34m=\u001b[0m  \u001b[0;34m[\u001b[0m\u001b[0;34m'bon'\u001b[0m\u001b[0;34m,\u001b[0m \u001b[0;34m'dia'\u001b[0m\u001b[0;34m,\u001b[0m \u001b[0;34m'a'\u001b[0m\u001b[0;34m,\u001b[0m \u001b[0;34m'tothom'\u001b[0m\u001b[0;34m]\u001b[0m\u001b[0;34m\u001b[0m\u001b[0;34m\u001b[0m\u001b[0m\n\u001b[1;32m      2\u001b[0m \u001b[0;32mfor\u001b[0m \u001b[0mposicio\u001b[0m \u001b[0;32min\u001b[0m \u001b[0mrange\u001b[0m\u001b[0;34m(\u001b[0m\u001b[0mlen\u001b[0m\u001b[0;34m(\u001b[0m\u001b[0mllista\u001b[0m\u001b[0;34m)\u001b[0m\u001b[0;34m)\u001b[0m\u001b[0;34m:\u001b[0m\u001b[0;34m\u001b[0m\u001b[0;34m\u001b[0m\u001b[0m\n\u001b[0;32m----> 3\u001b[0;31m   \u001b[0mprint\u001b[0m\u001b[0;34m(\u001b[0m\u001b[0mllista\u001b[0m\u001b[0;34m[\u001b[0m\u001b[0mposicio\u001b[0m\u001b[0;34m]\u001b[0m\u001b[0;34m,\u001b[0m \u001b[0mend\u001b[0m\u001b[0;34m)\u001b[0m\u001b[0;34m\u001b[0m\u001b[0;34m\u001b[0m\u001b[0m\n\u001b[0m",
            "\u001b[0;31mNameError\u001b[0m: name 'end' is not defined"
          ]
        }
      ]
    },
    {
      "cell_type": "markdown",
      "source": [
        "5. Compta quants números parells hi ha en una llista.\n",
        "Exemple: [2, 5, 6, 7, 10] → 3 parells\n",
        "Pista: numero % 2 == 0, comptador += 1"
      ],
      "metadata": {
        "id": "RLowaHnpUgV-"
      }
    },
    {
      "cell_type": "code",
      "source": [
        "llista =  [2, 5, 6, 7, 10]\n",
        "contador = 0\n",
        "for posicio in range(len(llista)):\n",
        "  if llista[posicio] % 2 == 0:\n",
        "    contador += 1\n",
        "\n",
        "print(contador)"
      ],
      "metadata": {
        "colab": {
          "base_uri": "https://localhost:8080/"
        },
        "id": "iviL-EcjUul2",
        "outputId": "6cfea4b6-635e-4dca-f714-37d2a3e0595c"
      },
      "execution_count": null,
      "outputs": [
        {
          "output_type": "stream",
          "name": "stdout",
          "text": [
            "3\n"
          ]
        }
      ]
    },
    {
      "cell_type": "markdown",
      "source": [
        "6. Multiplica per 2 cada element d’una llista de nombres enters i mostra el resultat.\n",
        "Exemple: [1, 2, 3] → 2, 4, 6"
      ],
      "metadata": {
        "id": "nH_1UwCNUhuO"
      }
    },
    {
      "cell_type": "code",
      "source": [
        "llista = [1, 2, 3]\n",
        "for posicio in range(len(llista) - 1):\n",
        "    print(llista[posicio] * 2, end=\",\")\n",
        "print(llista[-1] * 2)"
      ],
      "metadata": {
        "colab": {
          "base_uri": "https://localhost:8080/"
        },
        "id": "1B31HM5hUvCX",
        "outputId": "5810a9d7-2c41-4cb3-80cf-e4c09944be2f"
      },
      "execution_count": null,
      "outputs": [
        {
          "output_type": "stream",
          "name": "stdout",
          "text": [
            "2,4,6\n"
          ]
        }
      ]
    },
    {
      "cell_type": "markdown",
      "source": [
        "10. Crea una nova llista amb la longitud de cada paraula d’una llista original.\n",
        "Exemple: ['sol', 'cel', 'galàxia'] → [3, 3, 7]\n",
        "Pista: len(cadena)"
      ],
      "metadata": {
        "id": "V6LICOfgUn1_"
      }
    },
    {
      "cell_type": "code",
      "source": [
        "llista = ['sol', 'cel', 'galàxia']\n",
        "for posicion in range(len(llista)):\n",
        "  print()"
      ],
      "metadata": {
        "colab": {
          "base_uri": "https://localhost:8080/",
          "height": 176
        },
        "id": "XjenaJuPUwR-",
        "outputId": "6a39736c-a18e-4484-f896-42576bd19c9f"
      },
      "execution_count": null,
      "outputs": [
        {
          "output_type": "error",
          "ename": "TypeError",
          "evalue": "'builtin_function_or_method' object is not subscriptable",
          "traceback": [
            "\u001b[0;31m---------------------------------------------------------------------------\u001b[0m",
            "\u001b[0;31mTypeError\u001b[0m                                 Traceback (most recent call last)",
            "\u001b[0;32m/tmp/ipython-input-13-3164165015.py\u001b[0m in \u001b[0;36m<cell line: 0>\u001b[0;34m()\u001b[0m\n\u001b[1;32m      1\u001b[0m \u001b[0mllista\u001b[0m \u001b[0;34m=\u001b[0m \u001b[0;34m[\u001b[0m\u001b[0;34m'sol'\u001b[0m\u001b[0;34m,\u001b[0m \u001b[0;34m'cel'\u001b[0m\u001b[0;34m,\u001b[0m \u001b[0;34m'galàxia'\u001b[0m\u001b[0;34m]\u001b[0m\u001b[0;34m\u001b[0m\u001b[0;34m\u001b[0m\u001b[0m\n\u001b[1;32m      2\u001b[0m \u001b[0;32mfor\u001b[0m \u001b[0mposicion\u001b[0m \u001b[0;32min\u001b[0m \u001b[0mrange\u001b[0m\u001b[0;34m(\u001b[0m\u001b[0mlen\u001b[0m\u001b[0;34m(\u001b[0m\u001b[0mllista\u001b[0m\u001b[0;34m)\u001b[0m\u001b[0;34m)\u001b[0m\u001b[0;34m:\u001b[0m\u001b[0;34m\u001b[0m\u001b[0;34m\u001b[0m\u001b[0m\n\u001b[0;32m----> 3\u001b[0;31m   \u001b[0mprint\u001b[0m\u001b[0;34m(\u001b[0m\u001b[0mlen\u001b[0m\u001b[0;34m[\u001b[0m\u001b[0mllista\u001b[0m\u001b[0;34m]\u001b[0m\u001b[0;34m)\u001b[0m\u001b[0;34m\u001b[0m\u001b[0;34m\u001b[0m\u001b[0m\n\u001b[0m",
            "\u001b[0;31mTypeError\u001b[0m: 'builtin_function_or_method' object is not subscriptable"
          ]
        }
      ]
    }
  ]
}